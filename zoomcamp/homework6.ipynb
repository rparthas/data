{
 "cells": [
  {
   "cell_type": "code",
   "execution_count": 81,
   "metadata": {},
   "outputs": [],
   "source": [
    "import pandas as pd\n",
    "import numpy as np\n",
    "\n",
    "import matplotlib.pyplot as plt\n",
    "import seaborn as sns\n",
    "\n",
    "%matplotlib inline"
   ]
  },
  {
   "cell_type": "code",
   "execution_count": 82,
   "metadata": {},
   "outputs": [],
   "source": [
    "columns = [\n",
    "    'neighbourhood_group', 'room_type', 'latitude', 'longitude',\n",
    "    'minimum_nights', 'number_of_reviews','reviews_per_month',\n",
    "    'calculated_host_listings_count', 'availability_365',\n",
    "    'price'\n",
    "]\n",
    "\n",
    "df = pd.read_csv('AB_NYC_2019.csv', usecols=columns)\n",
    "df.reviews_per_month = df.reviews_per_month.fillna(0)"
   ]
  },
  {
   "cell_type": "code",
   "execution_count": 83,
   "metadata": {},
   "outputs": [],
   "source": [
    "df.fillna(0)\n",
    "df['price'] = df['price'].apply(np.log1p)"
   ]
  },
  {
   "cell_type": "code",
   "execution_count": 84,
   "metadata": {},
   "outputs": [],
   "source": [
    "from sklearn.model_selection import train_test_split\n",
    "train,test = train_test_split(df,test_size=0.2,random_state=1)\n",
    "train,val = train_test_split(train,test_size=0.2,random_state=1)"
   ]
  },
  {
   "cell_type": "code",
   "execution_count": 85,
   "metadata": {},
   "outputs": [],
   "source": [
    "y_train = train['price']\n",
    "y_test = test['price']\n",
    "y_val = val['price']\n",
    "del train['price']\n",
    "del test['price']\n",
    "del val['price']"
   ]
  },
  {
   "cell_type": "code",
   "execution_count": 86,
   "metadata": {},
   "outputs": [],
   "source": [
    "from sklearn.feature_extraction import DictVectorizer\n",
    "dict_train = train.to_dict(orient='records') \n",
    "dict_val = val.to_dict(orient='records')\n",
    "v = DictVectorizer(sparse=False)\n",
    "X_train = v.fit_transform(dict_train)\n",
    "X_val = v.transform(dict_val)"
   ]
  },
  {
   "cell_type": "code",
   "execution_count": 87,
   "metadata": {},
   "outputs": [
    {
     "data": {
      "text/plain": [
       "DecisionTreeRegressor(max_depth=1, random_state=0)"
      ]
     },
     "execution_count": 87,
     "metadata": {},
     "output_type": "execute_result"
    }
   ],
   "source": [
    "from sklearn.tree import DecisionTreeRegressor\n",
    "regressor = DecisionTreeRegressor(random_state=0,max_depth=1)\n",
    "regressor.fit(X_train,y_train)"
   ]
  },
  {
   "cell_type": "code",
   "execution_count": 88,
   "metadata": {},
   "outputs": [
    {
     "data": {
      "text/plain": [
       "{'availability_365': 0.0,\n",
       " 'calculated_host_listings_count': 0.0,\n",
       " 'latitude': 0.0,\n",
       " 'longitude': 0.0,\n",
       " 'minimum_nights': 0.0,\n",
       " 'neighbourhood_group=Bronx': 0.0,\n",
       " 'neighbourhood_group=Brooklyn': 0.0,\n",
       " 'neighbourhood_group=Manhattan': 0.0,\n",
       " 'neighbourhood_group=Queens': 0.0,\n",
       " 'neighbourhood_group=Staten Island': 0.0,\n",
       " 'number_of_reviews': 0.0,\n",
       " 'reviews_per_month': 0.0,\n",
       " 'room_type=Entire home/apt': 1.0,\n",
       " 'room_type=Private room': 0.0,\n",
       " 'room_type=Shared room': 0.0}"
      ]
     },
     "execution_count": 88,
     "metadata": {},
     "output_type": "execute_result"
    }
   ],
   "source": [
    "dict(zip(v.get_feature_names(), regressor.feature_importances_.round(3))) "
   ]
  },
  {
   "cell_type": "code",
   "execution_count": 89,
   "metadata": {},
   "outputs": [],
   "source": [
    "def predict(estimators=10,max_depth=None):\n",
    "    from sklearn.ensemble import RandomForestRegressor\n",
    "    from sklearn.metrics import mean_squared_error\n",
    "    regressor = RandomForestRegressor(n_estimators=estimators, random_state=1,n_jobs =-1)\n",
    "    if max_depth:\n",
    "        regressor = RandomForestRegressor(n_estimators=estimators, random_state=1,n_jobs =-1,max_depth=max_depth)\n",
    "    regressor.fit(X_train,y_train)\n",
    "    y_val_pred = regressor.predict(X_val)\n",
    "    rmse = mean_squared_error(y_val,y_val_pred,squared=False)\n",
    "    return regressor, rmse"
   ]
  },
  {
   "cell_type": "code",
   "execution_count": 90,
   "metadata": {},
   "outputs": [
    {
     "data": {
      "text/plain": [
       "0.46078067210100937"
      ]
     },
     "execution_count": 90,
     "metadata": {},
     "output_type": "execute_result"
    }
   ],
   "source": [
    "regressor, rmse = predict()\n",
    "rmse"
   ]
  },
  {
   "cell_type": "code",
   "execution_count": 91,
   "metadata": {},
   "outputs": [
    {
     "name": "stdout",
     "output_type": "stream",
     "text": [
      "10 === 0.46078067210100937\n",
      "20 === 0.44777342751030147\n",
      "30 === 0.44348203033518463\n",
      "40 === 0.4421868299723399\n",
      "50 === 0.4414563841054784\n",
      "60 === 0.4409265549453157\n",
      "70 === 0.44015536393193144\n",
      "80 === 0.43958432181362317\n",
      "90 === 0.43935814374764653\n",
      "100 === 0.43912841008144876\n",
      "110 === 0.4387094007857012\n",
      "120 === 0.43848857961017723\n",
      "130 === 0.4380852951696702\n",
      "140 === 0.43793312374001275\n",
      "150 === 0.4379224946086783\n",
      "160 === 0.4378122599508284\n",
      "170 === 0.43761517304863007\n",
      "180 === 0.4376249204741554\n",
      "190 === 0.4374779847346011\n",
      "200 === 0.43754618547576885\n"
     ]
    }
   ],
   "source": [
    "for estimator in range(10,201,10):\n",
    "    regressor, rmse = predict(estimator)\n",
    "    print(estimator,'===',rmse)"
   ]
  },
  {
   "cell_type": "code",
   "execution_count": 92,
   "metadata": {},
   "outputs": [],
   "source": [
    "rmse_df = []\n",
    "for estimator in range(10,201,10):\n",
    "    for max_depth in [10, 15, 20, 25]:\n",
    "        regressor, rmse = predict(estimator,max_depth)\n",
    "        rmse_df.append([estimator,max_depth,rmse])"
   ]
  },
  {
   "cell_type": "code",
   "execution_count": 95,
   "metadata": {},
   "outputs": [
    {
     "data": {
      "text/plain": [
       "estimator    200.000000\n",
       "max_depth     15.000000\n",
       "rmse           0.434755\n",
       "Name: 77, dtype: float64"
      ]
     },
     "execution_count": 95,
     "metadata": {},
     "output_type": "execute_result"
    }
   ],
   "source": [
    "rmse_val_df = pd.DataFrame(rmse_df,columns=['estimator','max_depth','rmse'])\n",
    "idx = rmse_val_df['rmse'].idxmin()\n",
    "rmse_val_df.iloc[idx,:]"
   ]
  },
  {
   "cell_type": "code",
   "execution_count": 96,
   "metadata": {},
   "outputs": [],
   "source": [
    "regressor, rmse = predict(10,20)"
   ]
  },
  {
   "cell_type": "code",
   "execution_count": 102,
   "metadata": {},
   "outputs": [
    {
     "data": {
      "text/html": [
       "<div>\n",
       "<style scoped>\n",
       "    .dataframe tbody tr th:only-of-type {\n",
       "        vertical-align: middle;\n",
       "    }\n",
       "\n",
       "    .dataframe tbody tr th {\n",
       "        vertical-align: top;\n",
       "    }\n",
       "\n",
       "    .dataframe thead th {\n",
       "        text-align: right;\n",
       "    }\n",
       "</style>\n",
       "<table border=\"1\" class=\"dataframe\">\n",
       "  <thead>\n",
       "    <tr style=\"text-align: right;\">\n",
       "      <th></th>\n",
       "      <th>feature</th>\n",
       "      <th>importance</th>\n",
       "    </tr>\n",
       "  </thead>\n",
       "  <tbody>\n",
       "    <tr>\n",
       "      <th>5</th>\n",
       "      <td>neighbourhood_group=Bronx</td>\n",
       "      <td>0.000</td>\n",
       "    </tr>\n",
       "    <tr>\n",
       "      <th>9</th>\n",
       "      <td>neighbourhood_group=Staten Island</td>\n",
       "      <td>0.000</td>\n",
       "    </tr>\n",
       "    <tr>\n",
       "      <th>6</th>\n",
       "      <td>neighbourhood_group=Brooklyn</td>\n",
       "      <td>0.001</td>\n",
       "    </tr>\n",
       "    <tr>\n",
       "      <th>8</th>\n",
       "      <td>neighbourhood_group=Queens</td>\n",
       "      <td>0.001</td>\n",
       "    </tr>\n",
       "    <tr>\n",
       "      <th>13</th>\n",
       "      <td>room_type=Private room</td>\n",
       "      <td>0.003</td>\n",
       "    </tr>\n",
       "    <tr>\n",
       "      <th>14</th>\n",
       "      <td>room_type=Shared room</td>\n",
       "      <td>0.006</td>\n",
       "    </tr>\n",
       "    <tr>\n",
       "      <th>1</th>\n",
       "      <td>calculated_host_listings_count</td>\n",
       "      <td>0.031</td>\n",
       "    </tr>\n",
       "    <tr>\n",
       "      <th>7</th>\n",
       "      <td>neighbourhood_group=Manhattan</td>\n",
       "      <td>0.035</td>\n",
       "    </tr>\n",
       "    <tr>\n",
       "      <th>10</th>\n",
       "      <td>number_of_reviews</td>\n",
       "      <td>0.043</td>\n",
       "    </tr>\n",
       "    <tr>\n",
       "      <th>11</th>\n",
       "      <td>reviews_per_month</td>\n",
       "      <td>0.053</td>\n",
       "    </tr>\n",
       "    <tr>\n",
       "      <th>4</th>\n",
       "      <td>minimum_nights</td>\n",
       "      <td>0.054</td>\n",
       "    </tr>\n",
       "    <tr>\n",
       "      <th>0</th>\n",
       "      <td>availability_365</td>\n",
       "      <td>0.076</td>\n",
       "    </tr>\n",
       "    <tr>\n",
       "      <th>2</th>\n",
       "      <td>latitude</td>\n",
       "      <td>0.146</td>\n",
       "    </tr>\n",
       "    <tr>\n",
       "      <th>3</th>\n",
       "      <td>longitude</td>\n",
       "      <td>0.158</td>\n",
       "    </tr>\n",
       "    <tr>\n",
       "      <th>12</th>\n",
       "      <td>room_type=Entire home/apt</td>\n",
       "      <td>0.393</td>\n",
       "    </tr>\n",
       "  </tbody>\n",
       "</table>\n",
       "</div>"
      ],
      "text/plain": [
       "                              feature  importance\n",
       "5           neighbourhood_group=Bronx       0.000\n",
       "9   neighbourhood_group=Staten Island       0.000\n",
       "6        neighbourhood_group=Brooklyn       0.001\n",
       "8          neighbourhood_group=Queens       0.001\n",
       "13             room_type=Private room       0.003\n",
       "14              room_type=Shared room       0.006\n",
       "1      calculated_host_listings_count       0.031\n",
       "7       neighbourhood_group=Manhattan       0.035\n",
       "10                  number_of_reviews       0.043\n",
       "11                  reviews_per_month       0.053\n",
       "4                      minimum_nights       0.054\n",
       "0                    availability_365       0.076\n",
       "2                            latitude       0.146\n",
       "3                           longitude       0.158\n",
       "12          room_type=Entire home/apt       0.393"
      ]
     },
     "execution_count": 102,
     "metadata": {},
     "output_type": "execute_result"
    }
   ],
   "source": [
    "pd.DataFrame(zip(v.get_feature_names(), regressor.feature_importances_.round(3)),columns=['feature','importance']).sort_values(by='importance')"
   ]
  },
  {
   "cell_type": "code",
   "execution_count": 119,
   "metadata": {},
   "outputs": [],
   "source": [
    "import xgboost as xgb\n",
    "def evaluate(eta):\n",
    "    xgb_params = {\n",
    "        'eta': eta, \n",
    "        'max_depth': 6,\n",
    "        'min_child_weight': 1,\n",
    "\n",
    "        'objective': 'reg:squarederror',\n",
    "        'nthread': 8,\n",
    "\n",
    "        'seed': 1,\n",
    "        'verbosity': 1,\n",
    "    }\n",
    "    print(xgb_params)\n",
    "    dtrain = xgb.DMatrix(X_train, label=y_train, feature_names=v.feature_names_) \n",
    "    dval = xgb.DMatrix(X_val, label=y_val, feature_names=v.feature_names_)\n",
    "    model = xgb.train(xgb_params, dtrain, num_boost_round=100)\n",
    "    y_val_pred = model.predict(dval)\n",
    "    return mean_squared_error(y_val,y_val_pred,squared=False)"
   ]
  },
  {
   "cell_type": "code",
   "execution_count": 120,
   "metadata": {},
   "outputs": [
    {
     "name": "stdout",
     "output_type": "stream",
     "text": [
      "{'eta': 0.3, 'max_depth': 6, 'min_child_weight': 1, 'objective': 'reg:squarederror', 'nthread': 8, 'seed': 1, 'verbosity': 1}\n"
     ]
    },
    {
     "data": {
      "text/plain": [
       "0.43723814828957047"
      ]
     },
     "execution_count": 120,
     "metadata": {},
     "output_type": "execute_result"
    }
   ],
   "source": [
    "evaluate(0.3)"
   ]
  },
  {
   "cell_type": "code",
   "execution_count": 121,
   "metadata": {},
   "outputs": [
    {
     "name": "stdout",
     "output_type": "stream",
     "text": [
      "{'eta': 0.1, 'max_depth': 6, 'min_child_weight': 1, 'objective': 'reg:squarederror', 'nthread': 8, 'seed': 1, 'verbosity': 1}\n"
     ]
    },
    {
     "data": {
      "text/plain": [
       "0.4345855408382242"
      ]
     },
     "execution_count": 121,
     "metadata": {},
     "output_type": "execute_result"
    }
   ],
   "source": [
    "evaluate(0.1)"
   ]
  },
  {
   "cell_type": "code",
   "execution_count": 122,
   "metadata": {},
   "outputs": [
    {
     "name": "stdout",
     "output_type": "stream",
     "text": [
      "{'eta': 0.01, 'max_depth': 6, 'min_child_weight': 1, 'objective': 'reg:squarederror', 'nthread': 8, 'seed': 1, 'verbosity': 1}\n"
     ]
    },
    {
     "data": {
      "text/plain": [
       "1.631293499371654"
      ]
     },
     "execution_count": 122,
     "metadata": {},
     "output_type": "execute_result"
    }
   ],
   "source": [
    "evaluate(0.01)"
   ]
  }
 ],
 "metadata": {
  "kernelspec": {
   "display_name": "Python 3",
   "language": "python",
   "name": "python3"
  },
  "language_info": {
   "codemirror_mode": {
    "name": "ipython",
    "version": 3
   },
   "file_extension": ".py",
   "mimetype": "text/x-python",
   "name": "python",
   "nbconvert_exporter": "python",
   "pygments_lexer": "ipython3",
   "version": "3.6.8"
  }
 },
 "nbformat": 4,
 "nbformat_minor": 4
}
