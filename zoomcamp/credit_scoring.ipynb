{
 "cells": [
  {
   "cell_type": "code",
   "execution_count": 1,
   "metadata": {},
   "outputs": [],
   "source": [
    "import pandas as pd \n",
    "import numpy as np \n",
    "\n",
    "import seaborn as sns \n",
    "from matplotlib import pyplot as plt \n",
    "%matplotlib inline"
   ]
  },
  {
   "cell_type": "code",
   "execution_count": 2,
   "metadata": {},
   "outputs": [],
   "source": [
    "df = pd.read_csv('credit_scoring.csv')"
   ]
  },
  {
   "cell_type": "code",
   "execution_count": 3,
   "metadata": {},
   "outputs": [
    {
     "data": {
      "text/html": [
       "<div>\n",
       "<style scoped>\n",
       "    .dataframe tbody tr th:only-of-type {\n",
       "        vertical-align: middle;\n",
       "    }\n",
       "\n",
       "    .dataframe tbody tr th {\n",
       "        vertical-align: top;\n",
       "    }\n",
       "\n",
       "    .dataframe thead th {\n",
       "        text-align: right;\n",
       "    }\n",
       "</style>\n",
       "<table border=\"1\" class=\"dataframe\">\n",
       "  <thead>\n",
       "    <tr style=\"text-align: right;\">\n",
       "      <th></th>\n",
       "      <th>status</th>\n",
       "      <th>seniority</th>\n",
       "      <th>home</th>\n",
       "      <th>time</th>\n",
       "      <th>age</th>\n",
       "      <th>marital</th>\n",
       "      <th>records</th>\n",
       "      <th>job</th>\n",
       "      <th>expenses</th>\n",
       "      <th>income</th>\n",
       "      <th>assets</th>\n",
       "      <th>debt</th>\n",
       "      <th>amount</th>\n",
       "      <th>price</th>\n",
       "    </tr>\n",
       "  </thead>\n",
       "  <tbody>\n",
       "    <tr>\n",
       "      <th>0</th>\n",
       "      <td>1</td>\n",
       "      <td>9</td>\n",
       "      <td>1</td>\n",
       "      <td>60</td>\n",
       "      <td>30</td>\n",
       "      <td>2</td>\n",
       "      <td>1</td>\n",
       "      <td>3</td>\n",
       "      <td>73</td>\n",
       "      <td>129</td>\n",
       "      <td>0</td>\n",
       "      <td>0</td>\n",
       "      <td>800</td>\n",
       "      <td>846</td>\n",
       "    </tr>\n",
       "    <tr>\n",
       "      <th>1</th>\n",
       "      <td>1</td>\n",
       "      <td>17</td>\n",
       "      <td>1</td>\n",
       "      <td>60</td>\n",
       "      <td>58</td>\n",
       "      <td>3</td>\n",
       "      <td>1</td>\n",
       "      <td>1</td>\n",
       "      <td>48</td>\n",
       "      <td>131</td>\n",
       "      <td>0</td>\n",
       "      <td>0</td>\n",
       "      <td>1000</td>\n",
       "      <td>1658</td>\n",
       "    </tr>\n",
       "    <tr>\n",
       "      <th>2</th>\n",
       "      <td>2</td>\n",
       "      <td>10</td>\n",
       "      <td>2</td>\n",
       "      <td>36</td>\n",
       "      <td>46</td>\n",
       "      <td>2</td>\n",
       "      <td>2</td>\n",
       "      <td>3</td>\n",
       "      <td>90</td>\n",
       "      <td>200</td>\n",
       "      <td>3000</td>\n",
       "      <td>0</td>\n",
       "      <td>2000</td>\n",
       "      <td>2985</td>\n",
       "    </tr>\n",
       "    <tr>\n",
       "      <th>3</th>\n",
       "      <td>1</td>\n",
       "      <td>0</td>\n",
       "      <td>1</td>\n",
       "      <td>60</td>\n",
       "      <td>24</td>\n",
       "      <td>1</td>\n",
       "      <td>1</td>\n",
       "      <td>1</td>\n",
       "      <td>63</td>\n",
       "      <td>182</td>\n",
       "      <td>2500</td>\n",
       "      <td>0</td>\n",
       "      <td>900</td>\n",
       "      <td>1325</td>\n",
       "    </tr>\n",
       "    <tr>\n",
       "      <th>4</th>\n",
       "      <td>1</td>\n",
       "      <td>0</td>\n",
       "      <td>1</td>\n",
       "      <td>36</td>\n",
       "      <td>26</td>\n",
       "      <td>1</td>\n",
       "      <td>1</td>\n",
       "      <td>1</td>\n",
       "      <td>46</td>\n",
       "      <td>107</td>\n",
       "      <td>0</td>\n",
       "      <td>0</td>\n",
       "      <td>310</td>\n",
       "      <td>910</td>\n",
       "    </tr>\n",
       "  </tbody>\n",
       "</table>\n",
       "</div>"
      ],
      "text/plain": [
       "   status  seniority  home  time  age  marital  records  job  expenses  \\\n",
       "0       1          9     1    60   30        2        1    3        73   \n",
       "1       1         17     1    60   58        3        1    1        48   \n",
       "2       2         10     2    36   46        2        2    3        90   \n",
       "3       1          0     1    60   24        1        1    1        63   \n",
       "4       1          0     1    36   26        1        1    1        46   \n",
       "\n",
       "   income  assets  debt  amount  price  \n",
       "0     129       0     0     800    846  \n",
       "1     131       0     0    1000   1658  \n",
       "2     200    3000     0    2000   2985  \n",
       "3     182    2500     0     900   1325  \n",
       "4     107       0     0     310    910  "
      ]
     },
     "execution_count": 3,
     "metadata": {},
     "output_type": "execute_result"
    }
   ],
   "source": [
    "df.columns = df.columns.str.lower()\n",
    "df.head()"
   ]
  },
  {
   "cell_type": "code",
   "execution_count": 4,
   "metadata": {},
   "outputs": [],
   "source": [
    "status_values = { \n",
    "    1: 'ok', \n",
    "    2: 'default', \n",
    "    0: 'unk' \n",
    "} \n",
    "df.status = df.status.map(status_values)"
   ]
  },
  {
   "cell_type": "code",
   "execution_count": 5,
   "metadata": {},
   "outputs": [],
   "source": [
    "home_values = { \n",
    "    1: 'rent', \n",
    "    2: 'owner', \n",
    "    3: 'private', \n",
    "    4: 'ignore', \n",
    "    5: 'parents', \n",
    "    6: 'other', \n",
    "    0: 'unk' \n",
    "} \n",
    "df.home = df.home.map(home_values) "
   ]
  },
  {
   "cell_type": "code",
   "execution_count": 6,
   "metadata": {},
   "outputs": [],
   "source": [
    "marital_values = { \n",
    "    1: 'single', \n",
    "    2: 'married', \n",
    "    3: 'widow', \n",
    "    4: 'separated', \n",
    "    5: 'divorced', \n",
    "    0: 'unk' \n",
    "} \n",
    "df.marital = df.marital.map(marital_values) \n",
    "\n",
    "records_values = { \n",
    "    1: 'no', \n",
    "    2: 'yes', \n",
    "    0: 'unk' \n",
    "} \n",
    "df.records = df.records.map(records_values) \n",
    "\n",
    "job_values = { \n",
    "    1: 'fixed', \n",
    "    2: 'partime', \n",
    "    3: 'freelance', \n",
    "    4: 'others', \n",
    "    0: 'unk' \n",
    "} \n",
    "df.job = df.job.map(job_values) "
   ]
  },
  {
   "cell_type": "code",
   "execution_count": 7,
   "metadata": {},
   "outputs": [
    {
     "data": {
      "text/html": [
       "<div>\n",
       "<style scoped>\n",
       "    .dataframe tbody tr th:only-of-type {\n",
       "        vertical-align: middle;\n",
       "    }\n",
       "\n",
       "    .dataframe tbody tr th {\n",
       "        vertical-align: top;\n",
       "    }\n",
       "\n",
       "    .dataframe thead th {\n",
       "        text-align: right;\n",
       "    }\n",
       "</style>\n",
       "<table border=\"1\" class=\"dataframe\">\n",
       "  <thead>\n",
       "    <tr style=\"text-align: right;\">\n",
       "      <th></th>\n",
       "      <th>seniority</th>\n",
       "      <th>time</th>\n",
       "      <th>age</th>\n",
       "      <th>expenses</th>\n",
       "      <th>income</th>\n",
       "      <th>assets</th>\n",
       "      <th>debt</th>\n",
       "      <th>amount</th>\n",
       "      <th>price</th>\n",
       "    </tr>\n",
       "  </thead>\n",
       "  <tbody>\n",
       "    <tr>\n",
       "      <th>count</th>\n",
       "      <td>4455.0</td>\n",
       "      <td>4455.0</td>\n",
       "      <td>4455.0</td>\n",
       "      <td>4455.0</td>\n",
       "      <td>4455.0</td>\n",
       "      <td>4455.0</td>\n",
       "      <td>4455.0</td>\n",
       "      <td>4455.0</td>\n",
       "      <td>4455.0</td>\n",
       "    </tr>\n",
       "    <tr>\n",
       "      <th>mean</th>\n",
       "      <td>8.0</td>\n",
       "      <td>46.0</td>\n",
       "      <td>37.0</td>\n",
       "      <td>56.0</td>\n",
       "      <td>763317.0</td>\n",
       "      <td>1060341.0</td>\n",
       "      <td>404382.0</td>\n",
       "      <td>1039.0</td>\n",
       "      <td>1463.0</td>\n",
       "    </tr>\n",
       "    <tr>\n",
       "      <th>std</th>\n",
       "      <td>8.0</td>\n",
       "      <td>15.0</td>\n",
       "      <td>11.0</td>\n",
       "      <td>20.0</td>\n",
       "      <td>8703625.0</td>\n",
       "      <td>10217569.0</td>\n",
       "      <td>6344253.0</td>\n",
       "      <td>475.0</td>\n",
       "      <td>628.0</td>\n",
       "    </tr>\n",
       "    <tr>\n",
       "      <th>min</th>\n",
       "      <td>0.0</td>\n",
       "      <td>6.0</td>\n",
       "      <td>18.0</td>\n",
       "      <td>35.0</td>\n",
       "      <td>0.0</td>\n",
       "      <td>0.0</td>\n",
       "      <td>0.0</td>\n",
       "      <td>100.0</td>\n",
       "      <td>105.0</td>\n",
       "    </tr>\n",
       "    <tr>\n",
       "      <th>25%</th>\n",
       "      <td>2.0</td>\n",
       "      <td>36.0</td>\n",
       "      <td>28.0</td>\n",
       "      <td>35.0</td>\n",
       "      <td>80.0</td>\n",
       "      <td>0.0</td>\n",
       "      <td>0.0</td>\n",
       "      <td>700.0</td>\n",
       "      <td>1118.0</td>\n",
       "    </tr>\n",
       "    <tr>\n",
       "      <th>50%</th>\n",
       "      <td>5.0</td>\n",
       "      <td>48.0</td>\n",
       "      <td>36.0</td>\n",
       "      <td>51.0</td>\n",
       "      <td>120.0</td>\n",
       "      <td>3500.0</td>\n",
       "      <td>0.0</td>\n",
       "      <td>1000.0</td>\n",
       "      <td>1400.0</td>\n",
       "    </tr>\n",
       "    <tr>\n",
       "      <th>75%</th>\n",
       "      <td>12.0</td>\n",
       "      <td>60.0</td>\n",
       "      <td>45.0</td>\n",
       "      <td>72.0</td>\n",
       "      <td>166.0</td>\n",
       "      <td>6000.0</td>\n",
       "      <td>0.0</td>\n",
       "      <td>1300.0</td>\n",
       "      <td>1692.0</td>\n",
       "    </tr>\n",
       "    <tr>\n",
       "      <th>max</th>\n",
       "      <td>48.0</td>\n",
       "      <td>72.0</td>\n",
       "      <td>68.0</td>\n",
       "      <td>180.0</td>\n",
       "      <td>99999999.0</td>\n",
       "      <td>99999999.0</td>\n",
       "      <td>99999999.0</td>\n",
       "      <td>5000.0</td>\n",
       "      <td>11140.0</td>\n",
       "    </tr>\n",
       "  </tbody>\n",
       "</table>\n",
       "</div>"
      ],
      "text/plain": [
       "       seniority    time     age  expenses      income      assets  \\\n",
       "count     4455.0  4455.0  4455.0    4455.0      4455.0      4455.0   \n",
       "mean         8.0    46.0    37.0      56.0    763317.0   1060341.0   \n",
       "std          8.0    15.0    11.0      20.0   8703625.0  10217569.0   \n",
       "min          0.0     6.0    18.0      35.0         0.0         0.0   \n",
       "25%          2.0    36.0    28.0      35.0        80.0         0.0   \n",
       "50%          5.0    48.0    36.0      51.0       120.0      3500.0   \n",
       "75%         12.0    60.0    45.0      72.0       166.0      6000.0   \n",
       "max         48.0    72.0    68.0     180.0  99999999.0  99999999.0   \n",
       "\n",
       "             debt  amount    price  \n",
       "count      4455.0  4455.0   4455.0  \n",
       "mean     404382.0  1039.0   1463.0  \n",
       "std     6344253.0   475.0    628.0  \n",
       "min           0.0   100.0    105.0  \n",
       "25%           0.0   700.0   1118.0  \n",
       "50%           0.0  1000.0   1400.0  \n",
       "75%           0.0  1300.0   1692.0  \n",
       "max    99999999.0  5000.0  11140.0  "
      ]
     },
     "execution_count": 7,
     "metadata": {},
     "output_type": "execute_result"
    }
   ],
   "source": [
    "df.describe().round()"
   ]
  },
  {
   "cell_type": "code",
   "execution_count": 8,
   "metadata": {},
   "outputs": [],
   "source": [
    "for c in ['income', 'assets', 'debt']: \n",
    "    df[c] = df[c].replace(to_replace=99999999, value=np.nan)"
   ]
  },
  {
   "cell_type": "code",
   "execution_count": 9,
   "metadata": {},
   "outputs": [
    {
     "data": {
      "text/html": [
       "<div>\n",
       "<style scoped>\n",
       "    .dataframe tbody tr th:only-of-type {\n",
       "        vertical-align: middle;\n",
       "    }\n",
       "\n",
       "    .dataframe tbody tr th {\n",
       "        vertical-align: top;\n",
       "    }\n",
       "\n",
       "    .dataframe thead th {\n",
       "        text-align: right;\n",
       "    }\n",
       "</style>\n",
       "<table border=\"1\" class=\"dataframe\">\n",
       "  <thead>\n",
       "    <tr style=\"text-align: right;\">\n",
       "      <th></th>\n",
       "      <th>seniority</th>\n",
       "      <th>time</th>\n",
       "      <th>age</th>\n",
       "      <th>expenses</th>\n",
       "      <th>income</th>\n",
       "      <th>assets</th>\n",
       "      <th>debt</th>\n",
       "      <th>amount</th>\n",
       "      <th>price</th>\n",
       "    </tr>\n",
       "  </thead>\n",
       "  <tbody>\n",
       "    <tr>\n",
       "      <th>count</th>\n",
       "      <td>4455.0</td>\n",
       "      <td>4455.0</td>\n",
       "      <td>4455.0</td>\n",
       "      <td>4455.0</td>\n",
       "      <td>4421.0</td>\n",
       "      <td>4408.0</td>\n",
       "      <td>4437.0</td>\n",
       "      <td>4455.0</td>\n",
       "      <td>4455.0</td>\n",
       "    </tr>\n",
       "    <tr>\n",
       "      <th>mean</th>\n",
       "      <td>8.0</td>\n",
       "      <td>46.0</td>\n",
       "      <td>37.0</td>\n",
       "      <td>56.0</td>\n",
       "      <td>131.0</td>\n",
       "      <td>5403.0</td>\n",
       "      <td>343.0</td>\n",
       "      <td>1039.0</td>\n",
       "      <td>1463.0</td>\n",
       "    </tr>\n",
       "    <tr>\n",
       "      <th>std</th>\n",
       "      <td>8.0</td>\n",
       "      <td>15.0</td>\n",
       "      <td>11.0</td>\n",
       "      <td>20.0</td>\n",
       "      <td>86.0</td>\n",
       "      <td>11573.0</td>\n",
       "      <td>1246.0</td>\n",
       "      <td>475.0</td>\n",
       "      <td>628.0</td>\n",
       "    </tr>\n",
       "    <tr>\n",
       "      <th>min</th>\n",
       "      <td>0.0</td>\n",
       "      <td>6.0</td>\n",
       "      <td>18.0</td>\n",
       "      <td>35.0</td>\n",
       "      <td>0.0</td>\n",
       "      <td>0.0</td>\n",
       "      <td>0.0</td>\n",
       "      <td>100.0</td>\n",
       "      <td>105.0</td>\n",
       "    </tr>\n",
       "    <tr>\n",
       "      <th>25%</th>\n",
       "      <td>2.0</td>\n",
       "      <td>36.0</td>\n",
       "      <td>28.0</td>\n",
       "      <td>35.0</td>\n",
       "      <td>80.0</td>\n",
       "      <td>0.0</td>\n",
       "      <td>0.0</td>\n",
       "      <td>700.0</td>\n",
       "      <td>1118.0</td>\n",
       "    </tr>\n",
       "    <tr>\n",
       "      <th>50%</th>\n",
       "      <td>5.0</td>\n",
       "      <td>48.0</td>\n",
       "      <td>36.0</td>\n",
       "      <td>51.0</td>\n",
       "      <td>120.0</td>\n",
       "      <td>3000.0</td>\n",
       "      <td>0.0</td>\n",
       "      <td>1000.0</td>\n",
       "      <td>1400.0</td>\n",
       "    </tr>\n",
       "    <tr>\n",
       "      <th>75%</th>\n",
       "      <td>12.0</td>\n",
       "      <td>60.0</td>\n",
       "      <td>45.0</td>\n",
       "      <td>72.0</td>\n",
       "      <td>165.0</td>\n",
       "      <td>6000.0</td>\n",
       "      <td>0.0</td>\n",
       "      <td>1300.0</td>\n",
       "      <td>1692.0</td>\n",
       "    </tr>\n",
       "    <tr>\n",
       "      <th>max</th>\n",
       "      <td>48.0</td>\n",
       "      <td>72.0</td>\n",
       "      <td>68.0</td>\n",
       "      <td>180.0</td>\n",
       "      <td>959.0</td>\n",
       "      <td>300000.0</td>\n",
       "      <td>30000.0</td>\n",
       "      <td>5000.0</td>\n",
       "      <td>11140.0</td>\n",
       "    </tr>\n",
       "  </tbody>\n",
       "</table>\n",
       "</div>"
      ],
      "text/plain": [
       "       seniority    time     age  expenses  income    assets     debt  amount  \\\n",
       "count     4455.0  4455.0  4455.0    4455.0  4421.0    4408.0   4437.0  4455.0   \n",
       "mean         8.0    46.0    37.0      56.0   131.0    5403.0    343.0  1039.0   \n",
       "std          8.0    15.0    11.0      20.0    86.0   11573.0   1246.0   475.0   \n",
       "min          0.0     6.0    18.0      35.0     0.0       0.0      0.0   100.0   \n",
       "25%          2.0    36.0    28.0      35.0    80.0       0.0      0.0   700.0   \n",
       "50%          5.0    48.0    36.0      51.0   120.0    3000.0      0.0  1000.0   \n",
       "75%         12.0    60.0    45.0      72.0   165.0    6000.0      0.0  1300.0   \n",
       "max         48.0    72.0    68.0     180.0   959.0  300000.0  30000.0  5000.0   \n",
       "\n",
       "         price  \n",
       "count   4455.0  \n",
       "mean    1463.0  \n",
       "std      628.0  \n",
       "min      105.0  \n",
       "25%     1118.0  \n",
       "50%     1400.0  \n",
       "75%     1692.0  \n",
       "max    11140.0  "
      ]
     },
     "execution_count": 9,
     "metadata": {},
     "output_type": "execute_result"
    }
   ],
   "source": [
    "df.describe().round()"
   ]
  },
  {
   "cell_type": "code",
   "execution_count": 10,
   "metadata": {},
   "outputs": [
    {
     "data": {
      "text/plain": [
       "ok         3200\n",
       "default    1254\n",
       "unk           1\n",
       "Name: status, dtype: int64"
      ]
     },
     "execution_count": 10,
     "metadata": {},
     "output_type": "execute_result"
    }
   ],
   "source": [
    "df.status.value_counts()"
   ]
  },
  {
   "cell_type": "code",
   "execution_count": 11,
   "metadata": {},
   "outputs": [],
   "source": [
    "df = df[df.status != 'unk'] "
   ]
  },
  {
   "cell_type": "code",
   "execution_count": 12,
   "metadata": {},
   "outputs": [],
   "source": [
    "from sklearn.model_selection import train_test_split \n",
    "df_train_full, df_test = train_test_split(df, test_size=0.2, random_state=11) \n",
    "df_train, df_val = train_test_split(df_train_full, test_size=0.25, random_state=11) "
   ]
  },
  {
   "cell_type": "code",
   "execution_count": 13,
   "metadata": {},
   "outputs": [],
   "source": [
    "y_train = (df_train.status == 'default').values \n",
    "y_val = (df_val.status == 'default').values \n",
    "del df_train['status'] \n",
    "del df_val['status'] "
   ]
  },
  {
   "cell_type": "code",
   "execution_count": 14,
   "metadata": {},
   "outputs": [],
   "source": [
    "df_train = df_train.fillna(0) \n",
    "df_val = df_val.fillna(0)"
   ]
  },
  {
   "cell_type": "code",
   "execution_count": 15,
   "metadata": {},
   "outputs": [],
   "source": [
    "dict_train = df_train.to_dict(orient='records') \n",
    "dict_val = df_val.to_dict(orient='records')"
   ]
  },
  {
   "cell_type": "code",
   "execution_count": 16,
   "metadata": {},
   "outputs": [],
   "source": [
    "from sklearn.feature_extraction import DictVectorizer \n",
    "dv = DictVectorizer(sparse=False) \n",
    "X_train = dv.fit_transform(dict_train) \n",
    "X_val = dv.transform(dict_val) "
   ]
  },
  {
   "cell_type": "code",
   "execution_count": 19,
   "metadata": {},
   "outputs": [
    {
     "data": {
      "text/plain": [
       "DecisionTreeClassifier(max_depth=2)"
      ]
     },
     "execution_count": 19,
     "metadata": {},
     "output_type": "execute_result"
    }
   ],
   "source": [
    "from sklearn.tree import DecisionTreeClassifier\n",
    "dt = DecisionTreeClassifier(max_depth=2) \n",
    "dt.fit(X_train, y_train)"
   ]
  },
  {
   "cell_type": "code",
   "execution_count": 22,
   "metadata": {},
   "outputs": [
    {
     "name": "stdout",
     "output_type": "stream",
     "text": [
      "train 0.7054989859726213\n",
      "val 0.6685264343319367\n"
     ]
    }
   ],
   "source": [
    "from sklearn.metrics import roc_auc_score \n",
    "y_pred = dt.predict_proba(X_train)[:, 1] \n",
    "print(\"train\",roc_auc_score(y_train, y_pred))\n",
    "y_pred = dt.predict_proba(X_val)[:, 1] \n",
    "print(\"val\",roc_auc_score(y_val, y_pred))"
   ]
  },
  {
   "cell_type": "code",
   "execution_count": 21,
   "metadata": {},
   "outputs": [
    {
     "name": "stdout",
     "output_type": "stream",
     "text": [
      "|--- records=yes <= 0.50\n",
      "|   |--- job=partime <= 0.50\n",
      "|   |   |--- class: False\n",
      "|   |--- job=partime >  0.50\n",
      "|   |   |--- class: True\n",
      "|--- records=yes >  0.50\n",
      "|   |--- seniority <= 6.50\n",
      "|   |   |--- class: True\n",
      "|   |--- seniority >  6.50\n",
      "|   |   |--- class: False\n",
      "\n"
     ]
    }
   ],
   "source": [
    "from sklearn.tree import export_text  \n",
    "tree_text = export_text(dt, feature_names=dv.feature_names_)  \n",
    "print(tree_text) "
   ]
  },
  {
   "cell_type": "code",
   "execution_count": 23,
   "metadata": {},
   "outputs": [
    {
     "name": "stdout",
     "output_type": "stream",
     "text": [
      "   1 -> 0.606\n",
      "   2 -> 0.669\n",
      "   3 -> 0.739\n",
      "   4 -> 0.761\n",
      "   5 -> 0.767\n",
      "   6 -> 0.758\n",
      "  10 -> 0.699\n",
      "  15 -> 0.660\n",
      "  20 -> 0.653\n",
      "None -> 0.644\n"
     ]
    }
   ],
   "source": [
    "for depth in [1, 2, 3, 4, 5, 6, 10, 15, 20, None]: \n",
    "    dt = DecisionTreeClassifier(max_depth=depth) \n",
    "    dt.fit(X_train, y_train) \n",
    "    y_pred = dt.predict_proba(X_val)[:, 1] \n",
    "    auc = roc_auc_score(y_val, y_pred) \n",
    "    print('%4s -> %.3f' % (depth, auc))"
   ]
  },
  {
   "cell_type": "code",
   "execution_count": 24,
   "metadata": {},
   "outputs": [
    {
     "name": "stdout",
     "output_type": "stream",
     "text": [
      "depth: 4\n",
      "1 -> 0.761\n",
      "5 -> 0.761\n",
      "10 -> 0.761\n",
      "15 -> 0.764\n",
      "20 -> 0.761\n",
      "50 -> 0.753\n",
      "100 -> 0.756\n",
      "200 -> 0.747\n",
      "\n",
      "depth: 5\n",
      "1 -> 0.767\n",
      "5 -> 0.768\n",
      "10 -> 0.762\n",
      "15 -> 0.772\n",
      "20 -> 0.774\n",
      "50 -> 0.768\n",
      "100 -> 0.763\n",
      "200 -> 0.759\n",
      "\n",
      "depth: 6\n",
      "1 -> 0.762\n",
      "5 -> 0.762\n",
      "10 -> 0.778\n",
      "15 -> 0.785\n",
      "20 -> 0.774\n",
      "50 -> 0.770\n",
      "100 -> 0.776\n",
      "200 -> 0.768\n",
      "\n"
     ]
    }
   ],
   "source": [
    "for m in [4, 5, 6]: \n",
    "    print('depth: %s' % m) \n",
    "\n",
    "    for s in [1, 5, 10, 15, 20, 50, 100, 200]: \n",
    "        dt = DecisionTreeClassifier(max_depth=m, min_samples_leaf=s) \n",
    "        dt.fit(X_train, y_train) \n",
    "        y_pred = dt.predict_proba(X_val)[:, 1] \n",
    "        auc = roc_auc_score(y_val, y_pred) \n",
    "        print('%s -> %.3f' % (s, auc)) \n",
    "\n",
    "    print()"
   ]
  },
  {
   "cell_type": "code",
   "execution_count": 25,
   "metadata": {},
   "outputs": [
    {
     "data": {
      "text/plain": [
       "DecisionTreeClassifier(max_depth=6, min_samples_leaf=15)"
      ]
     },
     "execution_count": 25,
     "metadata": {},
     "output_type": "execute_result"
    }
   ],
   "source": [
    "dt = DecisionTreeClassifier(max_depth=6, min_samples_leaf=15) \n",
    "dt.fit(X_train, y_train) "
   ]
  },
  {
   "cell_type": "code",
   "execution_count": 27,
   "metadata": {},
   "outputs": [
    {
     "data": {
      "text/plain": [
       "0.7811145285897654"
      ]
     },
     "execution_count": 27,
     "metadata": {},
     "output_type": "execute_result"
    }
   ],
   "source": [
    "from sklearn.ensemble import RandomForestClassifier \n",
    "rf = RandomForestClassifier(n_estimators=10,random_state=3) \n",
    "rf.fit(X_train, y_train) \n",
    "y_pred = rf.predict_proba(X_val)[:, 1] \n",
    "roc_auc_score(y_val, y_pred) "
   ]
  },
  {
   "cell_type": "code",
   "execution_count": 28,
   "metadata": {},
   "outputs": [
    {
     "name": "stdout",
     "output_type": "stream",
     "text": [
      "10 -> 0.781\n",
      "20 -> 0.801\n",
      "30 -> 0.813\n",
      "40 -> 0.815\n",
      "50 -> 0.816\n",
      "60 -> 0.817\n",
      "70 -> 0.818\n",
      "80 -> 0.818\n",
      "90 -> 0.820\n",
      "100 -> 0.819\n",
      "110 -> 0.819\n",
      "120 -> 0.821\n",
      "130 -> 0.822\n",
      "140 -> 0.822\n",
      "150 -> 0.820\n",
      "160 -> 0.820\n",
      "170 -> 0.819\n",
      "180 -> 0.820\n",
      "190 -> 0.820\n",
      "200 -> 0.820\n"
     ]
    }
   ],
   "source": [
    "aucs = [] #A \n",
    "\n",
    "for i in range(10, 201, 10): #B \n",
    "    rf = RandomForestClassifier(n_estimators=i, random_state=3) #B \n",
    "    rf.fit(X_train, y_train) #B \n",
    "\n",
    "    y_pred = rf.predict_proba(X_val)[:, 1] #C \n",
    "    auc = roc_auc_score(y_val, y_pred) #C \n",
    "    print('%s -> %.3f' % (i, auc)) #C \n",
    "\n",
    "    aucs.append(auc)"
   ]
  },
  {
   "cell_type": "code",
   "execution_count": 29,
   "metadata": {},
   "outputs": [
    {
     "data": {
      "text/plain": [
       "[<matplotlib.lines.Line2D at 0x1345e4198>]"
      ]
     },
     "execution_count": 29,
     "metadata": {},
     "output_type": "execute_result"
    },
    {
     "data": {
      "image/png": "[encoded data removed]",
      "text/plain": [
       "<Figure size 432x288 with 1 Axes>"
      ]
     },
     "metadata": {
      "needs_background": "light"
     },
     "output_type": "display_data"
    }
   ],
   "source": [
    "plt.plot(range(10, 201, 10), aucs) "
   ]
  },
  {
   "cell_type": "code",
   "execution_count": 30,
   "metadata": {},
   "outputs": [
    {
     "name": "stdout",
     "output_type": "stream",
     "text": [
      "depth: 5\n",
      "10 -> 0.788\n",
      "20 -> 0.798\n",
      "30 -> 0.800\n",
      "40 -> 0.800\n",
      "50 -> 0.800\n",
      "60 -> 0.801\n",
      "70 -> 0.802\n",
      "80 -> 0.803\n",
      "90 -> 0.804\n",
      "100 -> 0.804\n",
      "110 -> 0.807\n",
      "120 -> 0.806\n",
      "130 -> 0.808\n",
      "140 -> 0.807\n",
      "150 -> 0.807\n",
      "160 -> 0.807\n",
      "170 -> 0.807\n",
      "180 -> 0.807\n",
      "190 -> 0.807\n",
      "200 -> 0.807\n",
      "\n",
      "depth: 10\n",
      "10 -> 0.791\n",
      "20 -> 0.808\n",
      "30 -> 0.812\n",
      "40 -> 0.818\n",
      "50 -> 0.817\n",
      "60 -> 0.819\n",
      "70 -> 0.820\n",
      "80 -> 0.820\n",
      "90 -> 0.820\n",
      "100 -> 0.821\n",
      "110 -> 0.823\n",
      "120 -> 0.823\n",
      "130 -> 0.825\n",
      "140 -> 0.824\n",
      "150 -> 0.824\n",
      "160 -> 0.825\n",
      "170 -> 0.825\n",
      "180 -> 0.825\n",
      "190 -> 0.825\n",
      "200 -> 0.825\n",
      "\n",
      "depth: 20\n",
      "10 -> 0.776\n",
      "20 -> 0.803\n",
      "30 -> 0.813\n",
      "40 -> 0.817\n",
      "50 -> 0.815\n",
      "60 -> 0.813\n",
      "70 -> 0.814\n",
      "80 -> 0.815\n",
      "90 -> 0.814\n",
      "100 -> 0.815\n",
      "110 -> 0.817\n",
      "120 -> 0.816\n",
      "130 -> 0.818\n",
      "140 -> 0.818\n",
      "150 -> 0.818\n",
      "160 -> 0.818\n",
      "170 -> 0.817\n",
      "180 -> 0.817\n",
      "190 -> 0.817\n",
      "200 -> 0.818\n",
      "\n"
     ]
    }
   ],
   "source": [
    "all_aucs = {} #A \n",
    "\n",
    "for depth in [5, 10, 20]: #B \n",
    "    print('depth: %s' % depth) \n",
    "    aucs = [] #C \n",
    "\n",
    "    for i in range(10, 201, 10): #C \n",
    "        rf = RandomForestClassifier(n_estimators=i, max_depth=depth, random_state=1) #D \n",
    "        rf.fit(X_train, y_train) \n",
    "        y_pred = rf.predict_proba(X_val)[:, 1] \n",
    "        auc = roc_auc_score(y_val, y_pred) #E \n",
    "        print('%s -> %.3f' % (i, auc)) #E \n",
    "        aucs.append(auc) #E \n",
    "\n",
    "    all_aucs[depth] = aucs #F \n",
    "    print()"
   ]
  },
  {
   "cell_type": "code",
   "execution_count": 31,
   "metadata": {},
   "outputs": [
    {
     "data": {
      "text/plain": [
       "<matplotlib.legend.Legend at 0x13471e8d0>"
      ]
     },
     "execution_count": 31,
     "metadata": {},
     "output_type": "execute_result"
    },
    {
     "data": {
      "image/png": "[encoded data removed]",
      "text/plain": [
       "<Figure size 432x288 with 1 Axes>"
      ]
     },
     "metadata": {
      "needs_background": "light"
     },
     "output_type": "display_data"
    }
   ],
   "source": [
    "num_trees = list(range(10, 201, 10)) \n",
    "plt.plot(num_trees, all_aucs[5], label='depth=5') \n",
    "plt.plot(num_trees, all_aucs[10], label='depth=10') \n",
    "plt.plot(num_trees, all_aucs[20], label='depth=20') \n",
    "plt.legend() "
   ]
  },
  {
   "cell_type": "code",
   "execution_count": 32,
   "metadata": {},
   "outputs": [
    {
     "name": "stdout",
     "output_type": "stream",
     "text": [
      "min_samples_leaf: 3\n",
      "10 -> 0.811\n",
      "30 -> 0.823\n",
      "50 -> 0.823\n",
      "70 -> 0.822\n",
      "90 -> 0.823\n",
      "110 -> 0.823\n",
      "130 -> 0.824\n",
      "150 -> 0.825\n",
      "170 -> 0.825\n",
      "190 -> 0.825\n",
      "\n",
      "min_samples_leaf: 5\n",
      "10 -> 0.813\n",
      "30 -> 0.818\n",
      "50 -> 0.821\n",
      "70 -> 0.822\n",
      "90 -> 0.822\n",
      "110 -> 0.825\n",
      "130 -> 0.825\n",
      "150 -> 0.825\n",
      "170 -> 0.825\n",
      "190 -> 0.826\n",
      "\n",
      "min_samples_leaf: 10\n",
      "10 -> 0.810\n",
      "30 -> 0.822\n",
      "50 -> 0.822\n",
      "70 -> 0.819\n",
      "90 -> 0.820\n",
      "110 -> 0.820\n",
      "130 -> 0.821\n",
      "150 -> 0.820\n",
      "170 -> 0.820\n",
      "190 -> 0.820\n",
      "\n"
     ]
    }
   ],
   "source": [
    "all_aucs = {} \n",
    "\n",
    "for m in [3, 5, 10]: \n",
    "    print('min_samples_leaf: %s' % m) \n",
    "    aucs = [] \n",
    "\n",
    "    for i in range(10, 201, 20): \n",
    "        rf = RandomForestClassifier(n_estimators=i, max_depth=10, min_samples_leaf=m, \n",
    "random_state=1) \n",
    "        rf.fit(X_train, y_train) \n",
    "        y_pred = rf.predict_proba(X_val)[:, 1] \n",
    "        auc = roc_auc_score(y_val, y_pred) \n",
    "        print('%s -> %.3f' % (i, auc)) \n",
    "        aucs.append(auc) \n",
    "    \n",
    "    all_aucs[m] = aucs \n",
    "    print() "
   ]
  },
  {
   "cell_type": "code",
   "execution_count": 33,
   "metadata": {},
   "outputs": [
    {
     "data": {
      "text/plain": [
       "<matplotlib.legend.Legend at 0x1347a86d8>"
      ]
     },
     "execution_count": 33,
     "metadata": {},
     "output_type": "execute_result"
    },
    {
     "data": {
      "image/png": "[encoded data removed]",
      "text/plain": [
       "<Figure size 432x288 with 1 Axes>"
      ]
     },
     "metadata": {
      "needs_background": "light"
     },
     "output_type": "display_data"
    }
   ],
   "source": [
    "num_trees = list(range(10, 201, 20)) \n",
    "plt.plot(num_trees, all_aucs[3], label='min_samples_leaf=3') \n",
    "plt.plot(num_trees, all_aucs[5], label='min_samples_leaf=5')\n",
    "plt.plot(num_trees, all_aucs[10], label='min_samples_leaf=10') \n",
    "plt.legend() "
   ]
  },
  {
   "cell_type": "code",
   "execution_count": 34,
   "metadata": {},
   "outputs": [
    {
     "name": "stdout",
     "output_type": "stream",
     "text": [
      "0.825\n"
     ]
    }
   ],
   "source": [
    "rf = RandomForestClassifier(n_estimators=200, max_depth=10, min_samples_leaf=5, random_state=1) \n",
    "rf.fit(X_train, y_train) \n",
    "y_pred = rf.predict_proba(X_val)[:, 1] \n",
    "auc = roc_auc_score(y_val, y_pred) \n",
    "print('%.3f' % (auc)) "
   ]
  },
  {
   "cell_type": "code",
   "execution_count": null,
   "metadata": {},
   "outputs": [],
   "source": []
  }
 ],
 "metadata": {
  "interpreter": {
   "hash": "032e6b68352af7a9d31f1c560e1cfd25faca2010be9f0048d061b6c28be7f41e"
  },
  "kernelspec": {
   "display_name": "Python 3.6.8 64-bit",
   "name": "python3"
  },
  "language_info": {
   "codemirror_mode": {
    "name": "ipython",
    "version": 3
   },
   "file_extension": ".py",
   "mimetype": "text/x-python",
   "name": "python",
   "nbconvert_exporter": "python",
   "pygments_lexer": "ipython3",
   "version": "3.6.8"
  },
  "orig_nbformat": 4
 },
 "nbformat": 4,
 "nbformat_minor": 2
}
