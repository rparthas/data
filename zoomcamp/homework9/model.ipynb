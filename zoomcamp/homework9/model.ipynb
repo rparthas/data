{
 "cells": [
  {
   "cell_type": "code",
   "execution_count": 1,
   "id": "43758957-7b41-4bf1-ba39-e8f9451d6079",
   "metadata": {},
   "outputs": [],
   "source": [
    "import tensorflow.lite as tflite\n",
    "import tensorflow as tf \n",
    "from tensorflow import keras \n",
    "from io import BytesIO\n",
    "from urllib import request\n",
    "from PIL import Image\n",
    "from tensorflow.keras.preprocessing import image\n",
    "from tensorflow.keras.preprocessing.image import ImageDataGenerator"
   ]
  },
  {
   "cell_type": "code",
   "execution_count": 2,
   "id": "b8f491ea-5a1a-4dc4-8b80-b620bd0992ad",
   "metadata": {},
   "outputs": [
    {
     "name": "stderr",
     "output_type": "stream",
     "text": [
      "2021-11-28 20:19:02.736653: I tensorflow/core/platform/cpu_feature_guard.cc:151] This TensorFlow binary is optimized with oneAPI Deep Neural Network Library (oneDNN) to use the following CPU instructions in performance-critical operations:  AVX2 FMA\n",
      "To enable them in other operations, rebuild TensorFlow with the appropriate compiler flags.\n"
     ]
    }
   ],
   "source": [
    "model = keras.models.load_model('dogs_cats_10_0.687.h5') "
   ]
  },
  {
   "cell_type": "code",
   "execution_count": 3,
   "id": "743add67-e273-42dd-8a31-8399a2b5bfa9",
   "metadata": {},
   "outputs": [
    {
     "name": "stderr",
     "output_type": "stream",
     "text": [
      "2021-11-28 20:19:03.301654: W tensorflow/python/util/util.cc:368] Sets are not currently considered sequences, but this may change in the future, so consider avoiding using them.\n"
     ]
    },
    {
     "name": "stdout",
     "output_type": "stream",
     "text": [
      "INFO:tensorflow:Assets written to: /var/folders/41/hnfr5yxd35bg5yjh4tm994980000gp/T/tmpgk_s66kh/assets\n"
     ]
    },
    {
     "name": "stderr",
     "output_type": "stream",
     "text": [
      "2021-11-28 20:19:05.048197: W tensorflow/compiler/mlir/lite/python/tf_tfl_flatbuffer_helpers.cc:363] Ignored output_format.\n",
      "2021-11-28 20:19:05.048230: W tensorflow/compiler/mlir/lite/python/tf_tfl_flatbuffer_helpers.cc:366] Ignored drop_control_dependency.\n",
      "2021-11-28 20:19:05.049311: I tensorflow/cc/saved_model/reader.cc:43] Reading SavedModel from: /var/folders/41/hnfr5yxd35bg5yjh4tm994980000gp/T/tmpgk_s66kh\n",
      "2021-11-28 20:19:05.051129: I tensorflow/cc/saved_model/reader.cc:107] Reading meta graph with tags { serve }\n",
      "2021-11-28 20:19:05.051144: I tensorflow/cc/saved_model/reader.cc:148] Reading SavedModel debug info (if present) from: /var/folders/41/hnfr5yxd35bg5yjh4tm994980000gp/T/tmpgk_s66kh\n",
      "2021-11-28 20:19:05.058958: I tensorflow/cc/saved_model/loader.cc:210] Restoring SavedModel bundle.\n",
      "2021-11-28 20:19:05.181417: I tensorflow/cc/saved_model/loader.cc:194] Running initialization op on SavedModel bundle at path: /var/folders/41/hnfr5yxd35bg5yjh4tm994980000gp/T/tmpgk_s66kh\n",
      "2021-11-28 20:19:05.204607: I tensorflow/cc/saved_model/loader.cc:283] SavedModel load for tags { serve }; Status: success: OK. Took 155297 microseconds.\n",
      "2021-11-28 20:19:05.237217: I tensorflow/compiler/mlir/tensorflow/utils/dump_mlir_util.cc:237] disabling MLIR crash reproducer, set env var `MLIR_CRASH_REPRODUCER_DIRECTORY` to enable.\n",
      "WARNING:absl:Buffer deduplication procedure will be skipped when flatbuffer library is not properly loaded\n"
     ]
    }
   ],
   "source": [
    "converter = tflite.TFLiteConverter.from_keras_model(model)\n",
    "tflite_model = converter.convert()"
   ]
  },
  {
   "cell_type": "code",
   "execution_count": 4,
   "id": "c7a85dd5-0434-4170-b71f-77a26ef53e2b",
   "metadata": {},
   "outputs": [],
   "source": [
    "with tf.io.gfile.GFile('dogs_cats.tflite','wb') as f:\n",
    "    f.write(tflite_model)"
   ]
  },
  {
   "cell_type": "markdown",
   "id": "27ef9075-40f9-4b72-89d1-1bbd52751c9f",
   "metadata": {},
   "source": [
    "Size : 42.8 MB "
   ]
  },
  {
   "cell_type": "code",
   "execution_count": 5,
   "id": "bc2df15d-b3e9-4ece-9651-0adbe0fb0a6b",
   "metadata": {},
   "outputs": [
    {
     "data": {
      "text/plain": [
       "(0, 13)"
      ]
     },
     "execution_count": 5,
     "metadata": {},
     "output_type": "execute_result"
    }
   ],
   "source": [
    "interpreter = tf.lite.Interpreter(model_path='dogs_cats.tflite')\n",
    "interpreter.allocate_tensors() \n",
    "input_index = interpreter.get_input_details()[0]['index']\n",
    "output_index = interpreter.get_output_details()[0]['index']\n",
    "input_index,output_index"
   ]
  },
  {
   "cell_type": "code",
   "execution_count": 6,
   "id": "a3127e9d-b58b-4409-a5ad-c38095904ace",
   "metadata": {},
   "outputs": [],
   "source": [
    "def download_image(url):\n",
    "    with request.urlopen(url) as resp:\n",
    "        buffer = resp.read()\n",
    "    stream = BytesIO(buffer)\n",
    "    img = Image.open(stream)\n",
    "    return img\n",
    "\n",
    "\n",
    "def prepare_image(img, target_size):\n",
    "    if img.mode != 'RGB':\n",
    "        img = img.convert('RGB')\n",
    "    img = img.resize(target_size, Image.NEAREST)\n",
    "    return img"
   ]
  },
  {
   "cell_type": "code",
   "execution_count": 9,
   "id": "303acbd6-3f01-42de-8522-6a0a957e172e",
   "metadata": {},
   "outputs": [],
   "source": [
    "img = prepare_image(download_image('https://upload.wikimedia.org/wikipedia/commons/9/9a/Pug_600.jpg'),(150, 150))\n",
    "x = image.img_to_array(img)\n",
    "x = x.reshape((1,) + x.shape)\n",
    "datagen = ImageDataGenerator(rescale = 1./255)\n",
    "X = datagen.flow(x, batch_size=1)"
   ]
  },
  {
   "cell_type": "code",
   "execution_count": 18,
   "id": "3521b7ad-9902-45b5-8c59-f7b0b7305587",
   "metadata": {},
   "outputs": [
    {
     "data": {
      "text/plain": [
       "(1, 150, 150, 3)"
      ]
     },
     "execution_count": 18,
     "metadata": {},
     "output_type": "execute_result"
    }
   ],
   "source": [
    "X[0].shape"
   ]
  },
  {
   "cell_type": "code",
   "execution_count": 22,
   "id": "5d65bdf2-b384-469f-91a7-50407d71131c",
   "metadata": {},
   "outputs": [
    {
     "data": {
      "text/plain": [
       "array([[0.770491]], dtype=float32)"
      ]
     },
     "execution_count": 22,
     "metadata": {},
     "output_type": "execute_result"
    }
   ],
   "source": [
    "interpreter.set_tensor(input_index, X[0]) \n",
    "interpreter.invoke() \n",
    "preds = interpreter.get_tensor(output_index) \n",
    "preds"
   ]
  },
  {
   "cell_type": "code",
   "execution_count": 23,
   "id": "d45f6d5d-f53c-4ace-8e3e-a66843e855ed",
   "metadata": {},
   "outputs": [
    {
     "data": {
      "text/plain": [
       "array([[0.77049136]], dtype=float32)"
      ]
     },
     "execution_count": 23,
     "metadata": {},
     "output_type": "execute_result"
    }
   ],
   "source": [
    "model.predict(X)"
   ]
  },
  {
   "cell_type": "code",
   "execution_count": 25,
   "id": "761f2830",
   "metadata": {},
   "outputs": [
    {
     "data": {
      "text/plain": [
       "array([[0.72104645]], dtype=float32)"
      ]
     },
     "execution_count": 25,
     "metadata": {},
     "output_type": "execute_result"
    }
   ],
   "source": [
    "from keras_image_helper import create_preprocessor\n",
    "preprocessor = create_preprocessor('xception', target_size=(150, 150))\n",
    "x = preprocessor.from_url('https://upload.wikimedia.org/wikipedia/commons/1/18/Vombatus_ursinus_-Maria_Island_National_Park.jpg')\n",
    "interpreter.set_tensor(input_index, x) \n",
    "interpreter.invoke() \n",
    "preds = interpreter.get_tensor(output_index) \n",
    "preds"
   ]
  }
 ],
 "metadata": {
  "kernelspec": {
   "display_name": "Python 3 (ipykernel)",
   "language": "python",
   "name": "python3"
  },
  "language_info": {
   "codemirror_mode": {
    "name": "ipython",
    "version": 3
   },
   "file_extension": ".py",
   "mimetype": "text/x-python",
   "name": "python",
   "nbconvert_exporter": "python",
   "pygments_lexer": "ipython3",
   "version": "3.9.6"
  }
 },
 "nbformat": 4,
 "nbformat_minor": 5
}
