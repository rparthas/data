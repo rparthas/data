{
 "cells": [
  {
   "cell_type": "code",
   "execution_count": 14,
   "metadata": {},
   "outputs": [],
   "source": [
    "import grpc \n",
    "import tensorflow as tf \n",
    "from tensorflow_serving.apis import predict_pb2 \n",
    "from tensorflow_serving.apis import prediction_service_pb2_grpc "
   ]
  },
  {
   "cell_type": "code",
   "execution_count": 15,
   "metadata": {},
   "outputs": [],
   "source": [
    "host = 'localhost:8500' \n",
    "channel = grpc.insecure_channel(host) \n",
    "stub = prediction_service_pb2_grpc.PredictionServiceStub(channel)"
   ]
  },
  {
   "cell_type": "code",
   "execution_count": 16,
   "metadata": {},
   "outputs": [],
   "source": [
    "from keras_image_helper import create_preprocessor \n",
    "preprocessor = create_preprocessor('xception', target_size=(299, 299))"
   ]
  },
  {
   "cell_type": "code",
   "execution_count": 17,
   "metadata": {},
   "outputs": [],
   "source": [
    "url = \"http://bit.ly/mlbookcamp-pants\" \n",
    "X = preprocessor.from_url(url)"
   ]
  },
  {
   "cell_type": "code",
   "execution_count": 18,
   "metadata": {},
   "outputs": [],
   "source": [
    "def np_to_protobuf(data): \n",
    "    return tf.make_tensor_proto(data, shape=data.shape) "
   ]
  },
  {
   "cell_type": "code",
   "execution_count": 19,
   "metadata": {},
   "outputs": [],
   "source": [
    "pb_request = predict_pb2.PredictRequest() \n",
    "pb_request.model_spec.name = 'clothing-model' \n",
    "pb_request.model_spec.signature_name = 'serving_default'\n",
    "pb_request.inputs['input_8'].CopyFrom(np_to_protobuf(X))\n",
    "pb_result = stub.Predict(pb_request, timeout=20.0) \n",
    "pred = pb_result.outputs['dense_7'].float_val "
   ]
  },
  {
   "cell_type": "code",
   "execution_count": 20,
   "metadata": {},
   "outputs": [],
   "source": [
    "labels = [ \n",
    "    'dress', \n",
    "    'hat', \n",
    "    'longsleeve', \n",
    "    'outwear', \n",
    "    'pants', \n",
    "    'shirt', \n",
    "    'shoes', \n",
    "    'shorts', \n",
    "    'skirt', \n",
    "    't-shirt' \n",
    "] \n",
    "result = {c: p for c, p in zip(labels, pred)}"
   ]
  },
  {
   "cell_type": "code",
   "execution_count": 21,
   "metadata": {},
   "outputs": [
    {
     "name": "stdout",
     "output_type": "stream",
     "text": [
      "{'dress': -1.8682907819747925, 'hat': -4.761244773864746, 'longsleeve': -2.316983461380005, 'outwear': -1.062570333480835, 'pants': 9.887161254882812, 'shirt': -2.812433958053589, 'shoes': -3.666283130645752, 'shorts': 3.200361728668213, 'skirt': -2.6023383140563965, 't-shirt': -4.835046768188477}\n"
     ]
    }
   ],
   "source": [
    "print(result)"
   ]
  }
 ],
 "metadata": {
  "interpreter": {
   "hash": "617bf394921dbd6af35dc5cfda7f4af7a0c9007e1d933aa7c31edcd475e7a382"
  },
  "kernelspec": {
   "display_name": "Python 3.6.8 64-bit ('mlenv': venv)",
   "name": "python3"
  },
  "language_info": {
   "codemirror_mode": {
    "name": "ipython",
    "version": 3
   },
   "file_extension": ".py",
   "mimetype": "text/x-python",
   "name": "python",
   "nbconvert_exporter": "python",
   "pygments_lexer": "ipython3",
   "version": "3.6.8"
  },
  "orig_nbformat": 4
 },
 "nbformat": 4,
 "nbformat_minor": 2
}
