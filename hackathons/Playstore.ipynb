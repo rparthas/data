{
 "cells": [
  {
   "cell_type": "code",
   "execution_count": 85,
   "metadata": {},
   "outputs": [],
   "source": [
    "import pandas as pd\n",
    "import numpy as np\n",
    "from sklearn.base import BaseEstimator, TransformerMixin\n",
    "from sklearn.pipeline import make_pipeline\n",
    "from sklearn.compose import ColumnTransformer\n",
    "from sklearn.preprocessing import MaxAbsScaler,OneHotEncoder,OrdinalEncoder\n",
    "import lightgbm as lgb\n",
    "from sklearn.metrics import log_loss\n",
    "from sklearn.model_selection import cross_val_score\n",
    "from catboost import CatBoostClassifier"
   ]
  },
  {
   "cell_type": "code",
   "execution_count": 16,
   "metadata": {},
   "outputs": [],
   "source": [
    "train = pd.read_csv('data/PS_Train.csv')\n",
    "test = pd.read_csv('data/PS_Test.csv')"
   ]
  },
  {
   "cell_type": "code",
   "execution_count": 17,
   "metadata": {},
   "outputs": [],
   "source": [
    "class FeatureSelector(BaseEstimator, TransformerMixin ):\n",
    "    def __init__( self, feature_names ):\n",
    "        self._feature_names = feature_names \n",
    "      \n",
    "    def fit( self, X, y = None ):\n",
    "        return self \n",
    "    \n",
    "    def transform( self, X, y = None ):\n",
    "        return X[ self._feature_names ]"
   ]
  },
  {
   "cell_type": "code",
   "execution_count": 18,
   "metadata": {},
   "outputs": [],
   "source": [
    "class CustomColumnTransformer(BaseEstimator, TransformerMixin ):\n",
    "    \n",
    "    def __init__( self,column ):\n",
    "        self.column = column\n",
    "        pass\n",
    "\n",
    "    def get_categories(self,data):\n",
    "        test_cat = OneHotEncoder()\n",
    "        test_cat.fit_transform(pd.DataFrame(data))\n",
    "        return test_cat.categories_\n",
    "      \n",
    "    def fit( self, X, y = None ):\n",
    "        return self \n",
    "    \n",
    "    def transform( self, X, y = None ):\n",
    "        X_copy = X.copy()\n",
    "        test_cat = self.get_categories(test[self.column])\n",
    "        train_cat = self.get_categories(train[self.column])\n",
    "        categories = np.concatenate((test_cat, train_cat),axis=1)\n",
    "        categories = np.unique(categories).tolist()\n",
    "        \n",
    "        os_v_df = pd.DataFrame(np.zeros((X_copy.shape[0],len(categories))),columns=categories)\n",
    "        X_copy = pd.concat([X_copy,os_v_df],axis=1)\n",
    "\n",
    "        for idx,row in X_copy.iterrows():\n",
    "            row[row[self.column]] = 1\n",
    "            \n",
    "        X_copy = X_copy.drop(columns=[self.column])\n",
    "        return X_copy"
   ]
  },
  {
   "cell_type": "code",
   "execution_count": 79,
   "metadata": {},
   "outputs": [],
   "source": [
    "class PriceTransformer(BaseEstimator, TransformerMixin ):\n",
    "    def __init__( self ):\n",
    "        pass\n",
    "\n",
    "    def fit( self, X, y = None ):\n",
    "        return self \n",
    "    \n",
    "    def transform( self, X, y = None ):\n",
    "        X_copy = X.copy()\n",
    "        X_copy['Price'] = X_copy.apply(lambda x: 0 if x['Price'] == 'Free' else x['Price'],axis=1 )\n",
    "        X_copy['Price'] = X_copy['Price'].astype(float)\n",
    "        X_copy['RR'] = X_copy.apply(lambda x: x['Rating']* x['Reviews'],axis=1)\n",
    "        return X_copy"
   ]
  },
  {
   "cell_type": "code",
   "execution_count": 20,
   "metadata": {},
   "outputs": [
    {
     "data": {
      "text/html": [
       "<div>\n",
       "<style scoped>\n",
       "    .dataframe tbody tr th:only-of-type {\n",
       "        vertical-align: middle;\n",
       "    }\n",
       "\n",
       "    .dataframe tbody tr th {\n",
       "        vertical-align: top;\n",
       "    }\n",
       "\n",
       "    .dataframe thead th {\n",
       "        text-align: right;\n",
       "    }\n",
       "</style>\n",
       "<table border=\"1\" class=\"dataframe\">\n",
       "  <thead>\n",
       "    <tr style=\"text-align: right;\">\n",
       "      <th></th>\n",
       "      <th>Offered_By</th>\n",
       "      <th>Category</th>\n",
       "      <th>Rating</th>\n",
       "      <th>Reviews</th>\n",
       "      <th>Size</th>\n",
       "      <th>Price</th>\n",
       "      <th>Content_Rating</th>\n",
       "      <th>Last_Updated_On</th>\n",
       "      <th>Release_Version</th>\n",
       "      <th>OS_Version_Required</th>\n",
       "      <th>Downloads</th>\n",
       "    </tr>\n",
       "  </thead>\n",
       "  <tbody>\n",
       "    <tr>\n",
       "      <th>0</th>\n",
       "      <td>ps_id-24654</td>\n",
       "      <td>Finance</td>\n",
       "      <td>4.18</td>\n",
       "      <td>1481</td>\n",
       "      <td>Varies with device</td>\n",
       "      <td>Free</td>\n",
       "      <td>Everyone</td>\n",
       "      <td>May 05 2020</td>\n",
       "      <td>Varies with device</td>\n",
       "      <td>Varies with device</td>\n",
       "      <td>100,000+</td>\n",
       "    </tr>\n",
       "    <tr>\n",
       "      <th>1</th>\n",
       "      <td>ps_id-35329</td>\n",
       "      <td>Music And Audio</td>\n",
       "      <td>4.81</td>\n",
       "      <td>302</td>\n",
       "      <td>10M</td>\n",
       "      <td>Free</td>\n",
       "      <td>Everyone</td>\n",
       "      <td>Mar 26 2020</td>\n",
       "      <td>3.9.18</td>\n",
       "      <td>4.1 and up</td>\n",
       "      <td>5,000+</td>\n",
       "    </tr>\n",
       "    <tr>\n",
       "      <th>2</th>\n",
       "      <td>ps_id-11044</td>\n",
       "      <td>Game Casual</td>\n",
       "      <td>4.27</td>\n",
       "      <td>374</td>\n",
       "      <td>27M</td>\n",
       "      <td>Free</td>\n",
       "      <td>Everyone</td>\n",
       "      <td>May 01 2020</td>\n",
       "      <td>1.10.1</td>\n",
       "      <td>4.1 and up</td>\n",
       "      <td>10,000+</td>\n",
       "    </tr>\n",
       "    <tr>\n",
       "      <th>3</th>\n",
       "      <td>ps_id-36068</td>\n",
       "      <td>Business</td>\n",
       "      <td>4.03</td>\n",
       "      <td>122058</td>\n",
       "      <td>Varies with device</td>\n",
       "      <td>Free</td>\n",
       "      <td>Teen</td>\n",
       "      <td>May 02 2020</td>\n",
       "      <td>Varies with device</td>\n",
       "      <td>Varies with device</td>\n",
       "      <td>10,000,000+</td>\n",
       "    </tr>\n",
       "    <tr>\n",
       "      <th>4</th>\n",
       "      <td>ps_id-35831</td>\n",
       "      <td>Medical</td>\n",
       "      <td>4.60</td>\n",
       "      <td>358</td>\n",
       "      <td>Varies with device</td>\n",
       "      <td>297.5742</td>\n",
       "      <td>Everyone</td>\n",
       "      <td>Nov 29 2018</td>\n",
       "      <td>Varies with device</td>\n",
       "      <td>Varies with device</td>\n",
       "      <td>5,000+</td>\n",
       "    </tr>\n",
       "  </tbody>\n",
       "</table>\n",
       "</div>"
      ],
      "text/plain": [
       "    Offered_By         Category  Rating  Reviews                Size  \\\n",
       "0  ps_id-24654          Finance    4.18     1481  Varies with device   \n",
       "1  ps_id-35329  Music And Audio    4.81      302                 10M   \n",
       "2  ps_id-11044      Game Casual    4.27      374                 27M   \n",
       "3  ps_id-36068         Business    4.03   122058  Varies with device   \n",
       "4  ps_id-35831          Medical    4.60      358  Varies with device   \n",
       "\n",
       "      Price Content_Rating Last_Updated_On     Release_Version  \\\n",
       "0      Free       Everyone     May 05 2020  Varies with device   \n",
       "1      Free       Everyone     Mar 26 2020              3.9.18   \n",
       "2      Free       Everyone     May 01 2020              1.10.1   \n",
       "3      Free           Teen     May 02 2020  Varies with device   \n",
       "4  297.5742       Everyone     Nov 29 2018  Varies with device   \n",
       "\n",
       "  OS_Version_Required    Downloads  \n",
       "0  Varies with device     100,000+  \n",
       "1          4.1 and up       5,000+  \n",
       "2          4.1 and up      10,000+  \n",
       "3  Varies with device  10,000,000+  \n",
       "4  Varies with device       5,000+  "
      ]
     },
     "execution_count": 20,
     "metadata": {},
     "output_type": "execute_result"
    }
   ],
   "source": [
    "train.head()"
   ]
  },
  {
   "cell_type": "code",
   "execution_count": 21,
   "metadata": {
    "tags": []
   },
   "outputs": [
    {
     "name": "stdout",
     "output_type": "stream",
     "text": [
      "Category : (51,)\n",
      "Size : (439,)\n",
      "Content_Rating : (6,)\n",
      "Release_Version : (4190,)\n",
      "OS_Version_Required : (27,)\n",
      "Downloads : (18,)\n",
      "Last_Updated_On : (1583,)\n"
     ]
    }
   ],
   "source": [
    "for col in ['Category','Size','Content_Rating','Release_Version','OS_Version_Required','Downloads','Last_Updated_On']:\n",
    "    print(f\"{col} : {train[col].value_counts().shape}\")"
   ]
  },
  {
   "cell_type": "code",
   "execution_count": 22,
   "metadata": {},
   "outputs": [],
   "source": [
    "X_train = train.loc[:,train.columns != 'Downloads']\n",
    "y_train = train.loc[:,train.columns == 'Downloads']"
   ]
  },
  {
   "cell_type": "code",
   "execution_count": 117,
   "metadata": {},
   "outputs": [],
   "source": [
    "columns = ['Category','RR','Price','Content_Rating']\n",
    "preprocessor = ColumnTransformer(\n",
    "    transformers=[\n",
    "        ('cat1', OneHotEncoder(), ['Content_Rating','Category']) ,\n",
    "        ],\n",
    "        remainder ='passthrough')"
   ]
  },
  {
   "cell_type": "code",
   "execution_count": 118,
   "metadata": {
    "tags": []
   },
   "outputs": [],
   "source": [
    "pipeline = make_pipeline(PriceTransformer(),FeatureSelector(columns),preprocessor)\n",
    "X_train_enc = pipeline.fit_transform(X_train)"
   ]
  },
  {
   "cell_type": "code",
   "execution_count": 98,
   "metadata": {},
   "outputs": [
    {
     "data": {
      "text/plain": [
       "(16516, 4)"
      ]
     },
     "execution_count": 98,
     "metadata": {},
     "output_type": "execute_result"
    }
   ],
   "source": [
    "X_train_enc.shape"
   ]
  },
  {
   "cell_type": "code",
   "execution_count": 87,
   "metadata": {},
   "outputs": [],
   "source": [
    "def measure(model):\n",
    "    model.fit(X_train_enc,y_train)\n",
    "    print(log_loss(y_train,model.predict_proba(X_train_enc)))\n",
    "\n",
    "def cross_val(model):\n",
    "    accuracy = cross_val_score(model,X_train_enc,y_train,cv=5,scoring='accuracy')\n",
    "    print(accuracy.mean() * 100)\n",
    "\n",
    "def save(model):\n",
    "    test_enc = pipeline.transform(test)\n",
    "    pd.DataFrame(model.predict_proba(test_enc)).to_csv('data/submission.csv',index=False)"
   ]
  },
  {
   "cell_type": "code",
   "execution_count": 86,
   "metadata": {
    "tags": []
   },
   "outputs": [
    {
     "name": "stdout",
     "output_type": "stream",
     "text": [
      "2.152368468865916\n"
     ]
    }
   ],
   "source": [
    "gbm = lgb.LGBMClassifier()\n",
    "measure(gbm)"
   ]
  },
  {
   "cell_type": "code",
   "execution_count": 119,
   "metadata": {
    "tags": []
   },
   "outputs": [
    {
     "name": "stdout",
     "output_type": "stream",
     "text": [
      "1.0233859703780168\n"
     ]
    }
   ],
   "source": [
    "cat = CatBoostClassifier(verbose=False)\n",
    "measure(cat)"
   ]
  },
  {
   "cell_type": "code",
   "execution_count": 111,
   "metadata": {},
   "outputs": [],
   "source": [
    "save(cat)"
   ]
  }
 ],
 "metadata": {
  "kernelspec": {
   "display_name": "Python 3 (ipykernel)",
   "language": "python",
   "name": "python3"
  },
  "language_info": {
   "codemirror_mode": {
    "name": "ipython",
    "version": 3
   },
   "file_extension": ".py",
   "mimetype": "text/x-python",
   "name": "python",
   "nbconvert_exporter": "python",
   "pygments_lexer": "ipython3",
   "version": "3.8.7"
  }
 },
 "nbformat": 4,
 "nbformat_minor": 4
}
